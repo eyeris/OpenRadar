{
 "cells": [
  {
   "cell_type": "code",
   "execution_count": 1,
   "source": [
    "import numpy as np"
   ],
   "outputs": [],
   "metadata": {}
  },
  {
   "cell_type": "code",
   "execution_count": 2,
   "source": [
    "fileName = r\"E:\\OneDrive - UNSW\\PhD\\Experiments\\2021-06\\openradar\\data\\adc_data.bin\"\r\n",
    "c = 3e8\r\n",
    "band_width = 1798.92 * 1e6\r\n",
    "range_res = c / (2 * band_width)\r\n",
    "\r\n",
    "num_frame = 8\r\n",
    "numADCSamples = 256\r\n",
    "numADCBits = 16\r\n",
    "numLanes = 4\r\n",
    "isReal = 0\r\n",
    "numRX = 4\r\n",
    "numTX = 1\r\n",
    "numChirps = 128\r\n",
    "frame_period = 40 * 1e-3"
   ],
   "outputs": [],
   "metadata": {}
  },
  {
   "cell_type": "code",
   "execution_count": 3,
   "source": [
    "# read .bin file\r\n",
    "with open(fileName, \"rb\") as fid:\r\n",
    "    adcData = np.array(np.frombuffer(fid.read(), dtype=np.int16))\r\n",
    "\r\n",
    "# if 12 or 14 bits ADC per sample compensate for sign extension\r\n",
    "if numADCBits != 16:\r\n",
    "    l_max = 2**(numADCBits - 1) - 1\r\n",
    "    adcData[adcData > l_max] -= 2**numADCBits\r\n",
    "\r\n",
    "fileSize = adcData.shape[0]\r\n",
    "print(fileSize)\r\n",
    "\r\n",
    "# real data reshape, filesize = numADCSamples*numChirps\r\n",
    "if isReal:\r\n",
    "    numChirps = int(fileSize / numADCSamples / numRX)\r\n",
    "    #create column for each chirp\r\n",
    "    LVDS = np.reshape(adcData, (numADCSamples * numRX, numChirps),\r\n",
    "                        order='F').transpose()\r\n",
    "else:\r\n",
    "    # for complex data\r\n",
    "    # filesize = 2 * numADCSamples*numChirps\r\n",
    "    numChirps = int(fileSize / 2 / numADCSamples / numRX)\r\n",
    "\r\n",
    "    LVDS = np.zeros(int(fileSize / 2)).astype(complex)\r\n",
    "    # combine real and imaginary part into complex data\r\n",
    "    # read in file: 4I is followed by 4Q\r\n",
    "    LVDS[::4] = adcData[::8] + complex(0, 1) * adcData[4::8]\r\n",
    "    LVDS[1::4] = adcData[1::8] + complex(0, 1) * adcData[5::8]\r\n",
    "    LVDS[2::4] = adcData[2::8] + complex(0, 1) * adcData[6::8]\r\n",
    "    LVDS[3::4] = adcData[3::8] + complex(0, 1) * adcData[7::8]\r\n",
    "    # create column for each chirp\r\n",
    "    # each row is data from one chirp\r\n",
    "    LVDS = np.reshape(LVDS, (numADCSamples * numRX, numChirps),\r\n",
    "                        order='F').transpose()\r\n",
    "\r\n",
    "# organize data per RX\r\n",
    "adcData = np.zeros((numRX, numChirps * numADCSamples)).astype(complex)\r\n",
    "for row in range(numRX):\r\n",
    "    for i in range(numChirps):\r\n",
    "        adcData[row, i * numADCSamples:(\r\n",
    "            (i + 1) * numADCSamples)] = LVDS[i, row *\r\n",
    "                                                numADCSamples:((row + 1) *\r\n",
    "                                                            numADCSamples)]"
   ],
   "outputs": [
    {
     "output_type": "stream",
     "name": "stdout",
     "text": [
      "13107200\n"
     ]
    }
   ],
   "metadata": {}
  },
  {
   "cell_type": "code",
   "execution_count": 4,
   "source": [
    "CHIRP_LOOPS, NUM_RX, NUM_ADC_SAMPLES\r\n",
    "np.reshape(adcData,128,4,256)"
   ],
   "outputs": [
    {
     "output_type": "execute_result",
     "data": {
      "text/plain": [
       "(4, 1638400)"
      ]
     },
     "metadata": {},
     "execution_count": 4
    }
   ],
   "metadata": {}
  }
 ],
 "metadata": {
  "orig_nbformat": 4,
  "language_info": {
   "name": "python",
   "version": "3.7.9",
   "mimetype": "text/x-python",
   "codemirror_mode": {
    "name": "ipython",
    "version": 3
   },
   "pygments_lexer": "ipython3",
   "nbconvert_exporter": "python",
   "file_extension": ".py"
  },
  "kernelspec": {
   "name": "python3",
   "display_name": "Python 3.7.9 64-bit"
  },
  "interpreter": {
   "hash": "4ce0e62306dd6a5716965d4519ada776f947e6dfc145b604b11307c10277ef29"
  }
 },
 "nbformat": 4,
 "nbformat_minor": 2
}