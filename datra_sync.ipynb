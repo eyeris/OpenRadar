{
 "cells": [
  {
   "cell_type": "code",
   "execution_count": 40,
   "source": [
    "import numpy as np\r\n",
    "from datetime import datetime\r\n",
    "from mmwave import dsp\r\n",
    "import matplotlib.pyplot as plt\r\n",
    "from mpl_toolkits.mplot3d import Axes3D"
   ],
   "outputs": [],
   "metadata": {}
  },
  {
   "cell_type": "code",
   "execution_count": 41,
   "source": [
    "class PointObject:\r\n",
    "    def __init__(self, point_cloud,depth,rgb,timestamp):\r\n",
    "        self.point_cloud = point_cloud\r\n",
    "        self.depth = depth\r\n",
    "        self.rgb = rgb\r\n",
    "        self.timestamp = timestamp"
   ],
   "outputs": [],
   "metadata": {}
  },
  {
   "cell_type": "code",
   "execution_count": 42,
   "source": [
    "loaded_depth = np.load(\"depth_cam.npy\",allow_pickle=True)\r\n",
    "loaded_depth[0].timestamp"
   ],
   "outputs": [
    {
     "output_type": "execute_result",
     "data": {
      "text/plain": [
       "datetime.datetime(2021, 7, 29, 8, 57, 4, 244070)"
      ]
     },
     "metadata": {},
     "execution_count": 42
    }
   ],
   "metadata": {}
  },
  {
   "cell_type": "code",
   "execution_count": 43,
   "source": [
    "loaded_mmwave = np.load(\"radar_cam.npz\",allow_pickle=True)\r\n",
    "print(loaded_mmwave[\"arr_0\"].shape)\r\n",
    "print(loaded_mmwave[\"arr_1\"].shape)"
   ],
   "outputs": [
    {
     "output_type": "stream",
     "name": "stdout",
     "text": [
      "(200, 128, 8, 256)\n",
      "(200,)\n"
     ]
    }
   ],
   "metadata": {}
  },
  {
   "cell_type": "code",
   "execution_count": 44,
   "source": [
    "def process_radar(radar_cube): \r\n",
    "    range_resolution = 0.1954\r\n",
    "    numTxAntennas = 2\r\n",
    "    range_cube = dsp.range_processing(radar_cube) # (num_chirps_per_frame, num_rx_antennas, num_range_bins)\r\n",
    "    det_matrix, aoa_input = dsp.doppler_processing(radar_cube)\r\n",
    "\r\n",
    "    numRangeBins = range_cube.shape[2]\r\n",
    "    numDopplerBins = aoa_input.shape[2]\r\n",
    "\r\n",
    "    fft2d_sum = det_matrix.astype(np.int64)\r\n",
    "    thresholdDoppler, noiseFloorDoppler = np.apply_along_axis(func1d=dsp.ca_,axis=0,arr=fft2d_sum.T,l_bound=1.5,guard_len=4,noise_len=16)\r\n",
    "\r\n",
    "    thresholdRange, noiseFloorRange = np.apply_along_axis(func1d=dsp.ca_,axis=0,arr=fft2d_sum,l_bound=2.5,guard_len=4,noise_len=16)\r\n",
    "\r\n",
    "    thresholdDoppler, noiseFloorDoppler = thresholdDoppler.T, noiseFloorDoppler.T\r\n",
    "    det_doppler_mask = (det_matrix > thresholdDoppler)\r\n",
    "    det_range_mask = (det_matrix > thresholdRange)\r\n",
    "\r\n",
    "    # # Get indices of detected peaks\r\n",
    "    full_mask = (det_doppler_mask & det_range_mask)\r\n",
    "    det_peaks_indices = np.argwhere(full_mask == True)\r\n",
    "\r\n",
    "    # # peakVals and SNR calculation\r\n",
    "    peakVals = fft2d_sum[det_peaks_indices[:, 0], det_peaks_indices[:, 1]]\r\n",
    "    snr = peakVals - noiseFloorRange[det_peaks_indices[:, 0], det_peaks_indices[:, 1]]\r\n",
    "\r\n",
    "    dtype_location = '(' + str(numTxAntennas) + ',)<f4'\r\n",
    "    dtype_detObj2D = np.dtype({'names': ['rangeIdx', 'dopplerIdx', 'peakVal', 'location', 'SNR'],\r\n",
    "                                'formats': ['<i4', '<i4', '<f4', dtype_location, '<f4']})\r\n",
    "    detObj2DRaw = np.zeros((det_peaks_indices.shape[0],), dtype=dtype_detObj2D)\r\n",
    "    detObj2DRaw['rangeIdx'] = det_peaks_indices[:, 0].squeeze()\r\n",
    "    detObj2DRaw['dopplerIdx'] = det_peaks_indices[:, 1].squeeze()\r\n",
    "    detObj2DRaw['peakVal'] = peakVals.flatten()\r\n",
    "    detObj2DRaw['SNR'] = snr.flatten()\r\n",
    "\r\n",
    "    # # Further peak pruning. This increases the point cloud density but helps avoid having too many detections around one object.\r\n",
    "    detObj2DRaw= dsp.prune_to_peaks(detObj2DRaw, det_matrix, numDopplerBins, reserve_neighbor=True)\r\n",
    "\r\n",
    "    # # --- Peak Grouping\r\n",
    "    detObj2D = dsp.peak_grouping_along_doppler(detObj2DRaw, det_matrix, numDopplerBins)\r\n",
    "    SNRThresholds2 = np.array([[2, 5], [10, 5], [35, 5]])\r\n",
    "    peakValThresholds2 = np.array([[4, 275], [1, 400], [500, 0]])\r\n",
    "    detObj2D = dsp.range_based_pruning(detObj2D, SNRThresholds2, peakValThresholds2, numRangeBins, 0.5, range_resolution)\r\n",
    "\r\n",
    "    azimuthInput = aoa_input[detObj2D['rangeIdx'], :, detObj2D['dopplerIdx']]\r\n",
    "    x, y, z = dsp.naive_xyz(azimuthInput.T,num_rx=4,num_tx=3)\r\n",
    "\r\n",
    "    xyzVecN = np.zeros((3, x.shape[0]))\r\n",
    "    xyzVecN[0] = x *range_resolution * detObj2D['rangeIdx']\r\n",
    "    xyzVecN[1] = y *range_resolution * detObj2D['rangeIdx']\r\n",
    "    xyzVecN[2] = z *range_resolution * detObj2D['rangeIdx']\r\n",
    "\r\n",
    "    #Apply filter mask\r\n",
    "    snr_matrix = detObj2D['SNR'].argsort()[-1024:][::-1]\r\n",
    "    snr_matrix.shape\r\n",
    "\r\n",
    "    mask=np.zeros(xyzVecN.shape[1], bool)\r\n",
    "    mask[snr_matrix] = True\r\n",
    "    filtered_points = xyzVecN[:,mask]\r\n",
    "    print(filtered_points.shape)\r\n",
    "    reshaped = np.reshape(filtered_points,(-1,32,32))\r\n",
    "    print(reshaped.shape)\r\n",
    "\r\n",
    "    return reshaped\r\n",
    "\r\n",
    "# fig = plt.figure(figsize=(20,20))\r\n",
    "\r\n",
    "# ax1 = fig.add_subplot(121, projection='3d')\r\n",
    "# #ax2 = fig.add_subplot(122)\r\n",
    "\r\n",
    "# ax1.set_title(\"3D Scatter Plot\")\r\n",
    "# ax1.scatter(xyzVecN[0], xyzVecN[1], xyzVecN[2])\r\n",
    "# ax1.set_xlabel('Azimuth(cm)')\r\n",
    "# ax1.set_ylabel('Range(cm)')\r\n",
    "# ax1.set_zlabel('Elevation(cm)')\r\n",
    "# # ax1.set_xlim3d(-15, 15)\r\n",
    "# # ax1.set_ylim3d(0, 15)\r\n",
    "# # ax1.set_zlim3d(-15,15 )\r\n",
    "\r\n",
    "# # ax2.set_title(\"RGB Frame\")\r\n",
    "# # ax2.imshow(data['rgb'][i][:, :, ::-1])\r\n",
    "# # ax2.set_axis_off()\r\n",
    "\r\n",
    "# plt.subplots_adjust(wspace=0.2)\r\n",
    "#plt.savefig('3d_scatter_'+str(i)+'_.png', bbox_inches = \"tight\",dpi=150)\r\n"
   ],
   "outputs": [],
   "metadata": {}
  },
  {
   "cell_type": "code",
   "execution_count": 47,
   "source": [
    "mm = []\r\n",
    "depth = []\r\n",
    "gap = np.timedelta64(100, 'ms')\r\n",
    "for i in loaded_depth: \r\n",
    "    k = 0\r\n",
    "    for j in loaded_mmwave[\"arr_1\"]:\r\n",
    "        k = k+1\r\n",
    "        if gap > abs(i.timestamp-j):\r\n",
    "            print(\"depth timestamp :%s\",i.timestamp)\r\n",
    "            print(\"mmwave timestamp :%s\",j)\r\n",
    "            try:\r\n",
    "                radar_points = process_radar(loaded_mmwave[\"arr_0\"][k])\r\n",
    "                mm.append(radar_points)\r\n",
    "                depth.append(i.point_cloud)\r\n",
    "                print(\"sucessfully\")\r\n",
    "            except:\r\n",
    "                pass;\r\n",
    "\r\n",
    "arr_1 = np.asarray(mm)\r\n",
    "arr_2 = np.asarray(depth)\r\n",
    "np.savez(\"radar_cam_sync_1.npz\",arr_1,arr_2)\r\n"
   ],
   "outputs": [
    {
     "output_type": "stream",
     "name": "stdout",
     "text": [
      "depth timestamp :%s 2021-07-29 08:57:11.753554\n",
      "mmwave timestamp :%s 2021-07-29 08:57:11.672772\n"
     ]
    },
    {
     "output_type": "stream",
     "name": "stderr",
     "text": [
      "e:\\OneDrive - UNSW\\PhD\\Experiments\\2021-06\\openradar\\mmwave\\dsp\\angle_estimation.py:883: RuntimeWarning: invalid value encountered in sqrt\n",
      "  y_vector = np.sqrt(1 - x_vector ** 2 - z_vector ** 2)\n"
     ]
    },
    {
     "output_type": "stream",
     "name": "stdout",
     "text": [
      "(3, 1024)\n",
      "(3, 32, 32)\n",
      "sucessfully\n",
      "depth timestamp :%s 2021-07-29 08:57:11.753554\n",
      "mmwave timestamp :%s 2021-07-29 08:57:11.827357\n",
      "(3, 1024)\n",
      "(3, 32, 32)\n",
      "sucessfully\n",
      "depth timestamp :%s 2021-07-29 08:57:17.559533\n",
      "mmwave timestamp :%s 2021-07-29 08:57:17.506699\n",
      "(3, 1024)\n",
      "(3, 32, 32)\n",
      "sucessfully\n",
      "depth timestamp :%s 2021-07-29 08:57:22.512813\n",
      "mmwave timestamp :%s 2021-07-29 08:57:22.546722\n",
      "(3, 899)\n",
      "depth timestamp :%s 2021-07-29 08:57:28.111820\n",
      "mmwave timestamp :%s 2021-07-29 08:57:28.144696\n",
      "(3, 962)\n",
      "depth timestamp :%s 2021-07-29 08:57:33.882370\n",
      "mmwave timestamp :%s 2021-07-29 08:57:33.824488\n",
      "(3, 1024)\n",
      "(3, 32, 32)\n",
      "sucessfully\n",
      "depth timestamp :%s 2021-07-29 08:57:39.078471\n",
      "mmwave timestamp :%s 2021-07-29 08:57:39.026577\n",
      "(3, 838)\n"
     ]
    },
    {
     "output_type": "stream",
     "name": "stderr",
     "text": [
      "D:\\Python\\lib\\site-packages\\ipykernel_launcher.py:20: VisibleDeprecationWarning: Creating an ndarray from ragged nested sequences (which is a list-or-tuple of lists-or-tuples-or ndarrays with different lengths or shapes) is deprecated. If you meant to do this, you must specify 'dtype=object' when creating the ndarray.\n"
     ]
    }
   ],
   "metadata": {}
  }
 ],
 "metadata": {
  "orig_nbformat": 4,
  "language_info": {
   "name": "python",
   "version": "3.7.9",
   "mimetype": "text/x-python",
   "codemirror_mode": {
    "name": "ipython",
    "version": 3
   },
   "pygments_lexer": "ipython3",
   "nbconvert_exporter": "python",
   "file_extension": ".py"
  },
  "kernelspec": {
   "name": "python3",
   "display_name": "Python 3.7.9 64-bit"
  },
  "interpreter": {
   "hash": "4ce0e62306dd6a5716965d4519ada776f947e6dfc145b604b11307c10277ef29"
  }
 },
 "nbformat": 4,
 "nbformat_minor": 2
}