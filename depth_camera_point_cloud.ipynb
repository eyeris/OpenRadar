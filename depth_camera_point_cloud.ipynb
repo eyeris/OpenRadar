{
 "metadata": {
  "language_info": {
   "name": "python",
   "version": "3.7.9",
   "mimetype": "text/x-python",
   "codemirror_mode": {
    "name": "ipython",
    "version": 3
   },
   "pygments_lexer": "ipython3",
   "nbconvert_exporter": "python",
   "file_extension": ".py"
  },
  "orig_nbformat": 4,
  "kernelspec": {
   "name": "python3",
   "display_name": "Python 3.7.9 64-bit"
  },
  "interpreter": {
   "hash": "f8a4220264a22d692c2e3132ffee74066f7b7c05c532ec5d92c4520053df6773"
  }
 },
 "nbformat": 4,
 "nbformat_minor": 2,
 "cells": [
  {
   "cell_type": "code",
   "execution_count": null,
   "source": [
    "import math\r\n",
    "import ctypes\r\n",
    "import pyglet\r\n",
    "import pyglet.gl as gl\r\n",
    "import numpy as np\r\n",
    "import pyrealsense2 as rs"
   ],
   "outputs": [],
   "metadata": {}
  },
  {
   "cell_type": "code",
   "execution_count": null,
   "source": [
    "!pip install open3d"
   ],
   "outputs": [
    {
     "output_type": "stream",
     "name": "stderr",
     "text": [
      "ERROR: Could not find a version that satisfies the requirement open3d (from versions: none)\n",
      "ERROR: No matching distribution found for open3d\n"
     ]
    }
   ],
   "metadata": {}
  },
  {
   "cell_type": "code",
   "execution_count": null,
   "source": [
    "# First import the library\r\n",
    "import pyrealsense2 as rs\r\n",
    "\r\n",
    "\r\n",
    "# Declare pointcloud object, for calculating pointclouds and texture mappings\r\n",
    "pc = rs.pointcloud()\r\n",
    "# We want the points object to be persistent so we can display the last cloud when a frame drops\r\n",
    "points = rs.points()\r\n",
    "\r\n",
    "# Declare RealSense pipeline, encapsulating the actual device and sensors\r\n",
    "pipe = rs.pipeline()\r\n",
    "config = rs.config()\r\n",
    "# Enable depth stream\r\n",
    "config.enable_stream(rs.stream.depth)\r\n",
    "\r\n",
    "# Start streaming with chosen configuration\r\n",
    "pipe.start(config)\r\n",
    "\r\n",
    "# We'll use the colorizer to generate texture for our PLY\r\n",
    "# (alternatively, texture can be obtained from color or infrared stream)\r\n",
    "colorizer = rs.colorizer()\r\n",
    "\r\n",
    "try:\r\n",
    "    # Wait for the next set of frames from the camera\r\n",
    "    frames = pipe.wait_for_frames()\r\n",
    "    colorized = colorizer.process(frames)\r\n",
    "\r\n",
    "    # Create save_to_ply object\r\n",
    "    ply = rs.save_to_ply(\"1.ply\")\r\n",
    "\r\n",
    "    # Set options to the desired values\r\n",
    "    # In this example we'll generate a textual PLY with normals (mesh is already created by default)\r\n",
    "    ply.set_option(rs.save_to_ply.option_ply_binary, False)\r\n",
    "    ply.set_option(rs.save_to_ply.option_ply_normals, True)\r\n",
    "\r\n",
    "    print(\"Saving to 1.ply...\")\r\n",
    "    # Apply the processing block to the frameset which contains the depth frame and the texture\r\n",
    "    ply.process(colorized)\r\n",
    "    print(\"Done\")\r\n",
    "finally:\r\n",
    "    pipe.stop()"
   ],
   "outputs": [
    {
     "output_type": "stream",
     "name": "stdout",
     "text": [
      "Saving to 1.ply...\n",
      "Done\n"
     ]
    }
   ],
   "metadata": {}
  },
  {
   "cell_type": "code",
   "execution_count": null,
   "source": [
    "import open3d as o3d"
   ],
   "outputs": [],
   "metadata": {}
  },
  {
   "cell_type": "code",
   "execution_count": null,
   "source": [
    "loaded_pcd = o3d.io.read_point_cloud(\"1.ply\") # Load saved pointcloud\r\n",
    "o3d.visualization.draw_geometries([loaded_pcd])  "
   ],
   "outputs": [],
   "metadata": {}
  }
 ]
}